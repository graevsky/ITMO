{
  "cells": [
    {
      "cell_type": "markdown",
      "metadata": {
        "id": "ZNP3DTIbs2Yw"
      },
      "source": [
        "Установка необходимых библиотек"
      ]
    },
    {
      "cell_type": "code",
      "execution_count": 1,
      "metadata": {
        "colab": {
          "base_uri": "https://localhost:8080/"
        },
        "id": "Vetqp0TQqonS",
        "outputId": "add6f81b-20f2-44ae-8a6a-0da7be72ddbd"
      },
      "outputs": [
        {
          "name": "stdout",
          "output_type": "stream",
          "text": [
            "\u001b[2K     \u001b[90m━━━━━━━━━━━━━━━━━━━━━━━━━━━━━━━━━━━━━━━━\u001b[0m \u001b[32m32.8/32.8 MB\u001b[0m \u001b[31m20.3 MB/s\u001b[0m eta \u001b[36m0:00:00\u001b[0m\n",
            "\u001b[2K     \u001b[90m━━━━━━━━━━━━━━━━━━━━━━━━━━━━━━━━━━━━━━━━\u001b[0m \u001b[32m29.1/29.1 MB\u001b[0m \u001b[31m31.6 MB/s\u001b[0m eta \u001b[36m0:00:00\u001b[0m\n",
            "\u001b[?25h"
          ]
        }
      ],
      "source": [
        "!pip install -q SpeechRecognition==3.8.1\n",
        "!pip install -q pocketsphinx==5.0.0"
      ]
    },
    {
      "cell_type": "markdown",
      "metadata": {
        "id": "45vHeCFfqone"
      },
      "source": [
        "Подключение библиотеки"
      ]
    },
    {
      "cell_type": "code",
      "execution_count": 1,
      "metadata": {
        "id": "6SH2matOqong"
      },
      "outputs": [],
      "source": [
        "import speech_recognition as sr"
      ]
    },
    {
      "cell_type": "markdown",
      "metadata": {
        "id": "MBSQMDVmqonn"
      },
      "source": [
        "Довольно простой код для распознавания звуковых файлов и обработки возможных ошибок:"
      ]
    },
    {
      "cell_type": "code",
      "execution_count": 7,
      "metadata": {
        "colab": {
          "base_uri": "https://localhost:8080/"
        },
        "id": "uU6kwHlPqonp",
        "outputId": "c88bdb14-d249-493f-890d-74bf285be9f5"
      },
      "outputs": [
        {
          "name": "stdout",
          "output_type": "stream",
          "text": [
            "4\n",
            "Результат Sphinx: and since the close and wants\n",
            "5\n",
            "Результат Sphinx: you know what you can do until you try\n",
            "6\n",
            "Результат Sphinx: absence makes the heart grow fonder\n",
            "7\n",
            "Результат Sphinx: fortune favors the boat\n"
          ]
        }
      ],
      "source": [
        "# Имя файла, который требуется распознать\n",
        "for i in range(4,8):\n",
        "    AUDIO_FILE = f'data\\{i}.wav'\n",
        "    print(i)\n",
        "    # Чтение файла\n",
        "    r = sr.Recognizer()\n",
        "    with sr.AudioFile(AUDIO_FILE) as source:\n",
        "       audio = r.record(source)\n",
        "\n",
        "# Распознавание с помощью Sphinx\n",
        "    try:\n",
        "       print(\"Результат Sphinx: \" + r.recognize_sphinx(audio))\n",
        "    except sr.UnknownValueError:\n",
        "        print(\"Ошибка: Sphinx could not understand audio\")\n",
        "    except sr.RequestError as e:\n",
        "       print(\"Ошибка: Sphinx error; {0}\".format(e))\n"
      ]
    }
  ],
  "metadata": {
    "colab": {
      "provenance": []
    },
    "kernelspec": {
      "display_name": "Python 3",
      "language": "python",
      "name": "python3"
    },
    "language_info": {
      "codemirror_mode": {
        "name": "ipython",
        "version": 3
      },
      "file_extension": ".py",
      "mimetype": "text/x-python",
      "name": "python",
      "nbconvert_exporter": "python",
      "pygments_lexer": "ipython3",
      "version": "3.8.0"
    }
  },
  "nbformat": 4,
  "nbformat_minor": 0
}
